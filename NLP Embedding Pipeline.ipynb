{
  "cells": [
    {
      "cell_type": "markdown",
      "metadata": {
        "id": "R8JgaBC0TSJq"
      },
      "source": [
        "Preprocessing the text"
      ]
    },
    {
      "cell_type": "markdown",
      "metadata": {
        "id": "XE5tp_IondoC"
      },
      "source": [
        "loading the dataset"
      ]
    },
    {
      "cell_type": "code",
      "execution_count": null,
      "metadata": {
        "id": "rcFiNvgYA_69"
      },
      "outputs": [],
      "source": [
        "text = 'text_corpus.txt'\n",
        "with open(text,'r')  as f:\n",
        "  corpus = f.read()"
      ]
    },
    {
      "cell_type": "code",
      "execution_count": null,
      "metadata": {
        "colab": {
          "base_uri": "https://localhost:8080/",
          "height": 35
        },
        "id": "jssk7SqhhyAY",
        "outputId": "38bad9b2-ba19-431e-9778-4afd2534a8ca"
      },
      "outputs": [
        {
          "data": {
            "application/vnd.google.colaboratory.intrinsic+json": {
              "type": "string"
            },
            "text/plain": [
              "'Deep learning is amazing. Machine learning is powerful. AI is the future.\\nComputers can learn from data. Data is crucial for AI.'"
            ]
          },
          "execution_count": 3,
          "metadata": {},
          "output_type": "execute_result"
        }
      ],
      "source": [
        "corpus"
      ]
    },
    {
      "cell_type": "code",
      "execution_count": null,
      "metadata": {
        "colab": {
          "base_uri": "https://localhost:8080/"
        },
        "id": "Dj4qZn6hiCC3",
        "outputId": "04670985-515d-44d6-dcd1-6ab855fd06cc"
      },
      "outputs": [
        {
          "name": "stderr",
          "output_type": "stream",
          "text": [
            "[nltk_data] Downloading package punkt_tab to /root/nltk_data...\n",
            "[nltk_data]   Unzipping tokenizers/punkt_tab.zip.\n"
          ]
        },
        {
          "data": {
            "text/plain": [
              "True"
            ]
          },
          "execution_count": 7,
          "metadata": {},
          "output_type": "execute_result"
        }
      ],
      "source": [
        "import nltk\n",
        "nltk.download('punkt_tab')"
      ]
    },
    {
      "cell_type": "code",
      "execution_count": null,
      "metadata": {
        "id": "xEYudvDjiEHZ"
      },
      "outputs": [],
      "source": [
        "from nltk.tokenize import sent_tokenize,word_tokenize"
      ]
    },
    {
      "cell_type": "markdown",
      "metadata": {
        "id": "Rc19CWBQnbaa"
      },
      "source": [
        "tokenzization"
      ]
    },
    {
      "cell_type": "code",
      "execution_count": null,
      "metadata": {
        "colab": {
          "base_uri": "https://localhost:8080/"
        },
        "id": "saraj3_HiVr3",
        "outputId": "903569a7-6a12-4992-af84-177c233f4f20"
      },
      "outputs": [
        {
          "data": {
            "text/plain": [
              "['Deep',\n",
              " 'learning',\n",
              " 'is',\n",
              " 'amazing',\n",
              " '.',\n",
              " 'Machine',\n",
              " 'learning',\n",
              " 'is',\n",
              " 'powerful',\n",
              " '.',\n",
              " 'AI',\n",
              " 'is',\n",
              " 'the',\n",
              " 'future',\n",
              " '.',\n",
              " 'Computers',\n",
              " 'can',\n",
              " 'learn',\n",
              " 'from',\n",
              " 'data',\n",
              " '.',\n",
              " 'Data',\n",
              " 'is',\n",
              " 'crucial',\n",
              " 'for',\n",
              " 'AI',\n",
              " '.']"
            ]
          },
          "execution_count": 17,
          "metadata": {},
          "output_type": "execute_result"
        }
      ],
      "source": [
        "tokenized_word_corps = word_tokenize(corpus)\n",
        "tokenized_word_corps"
      ]
    },
    {
      "cell_type": "markdown",
      "metadata": {
        "id": "ERh4oiosnVsp"
      },
      "source": [
        "Removing Punctuatuion"
      ]
    },
    {
      "cell_type": "code",
      "execution_count": null,
      "metadata": {
        "colab": {
          "base_uri": "https://localhost:8080/"
        },
        "id": "KFXkKyyMkBWI",
        "outputId": "98461e2b-a1c1-4db0-80a2-3d2f96f498ca"
      },
      "outputs": [
        {
          "data": {
            "text/plain": [
              "['Deep',\n",
              " 'learning',\n",
              " 'is',\n",
              " 'amazing',\n",
              " 'Machine',\n",
              " 'learning',\n",
              " 'is',\n",
              " 'powerful',\n",
              " 'AI',\n",
              " 'is',\n",
              " 'the',\n",
              " 'future',\n",
              " 'Computers',\n",
              " 'can',\n",
              " 'learn',\n",
              " 'from',\n",
              " 'data',\n",
              " 'Data',\n",
              " 'is',\n",
              " 'crucial',\n",
              " 'for',\n",
              " 'AI']"
            ]
          },
          "execution_count": 20,
          "metadata": {},
          "output_type": "execute_result"
        }
      ],
      "source": [
        "import string\n",
        "remove_punct_word = [word for word in tokenized_word_corps if word not in string.punctuation]\n",
        "remove_punct_word"
      ]
    },
    {
      "cell_type": "markdown",
      "metadata": {
        "id": "tjrTJiE3nYIx"
      },
      "source": [
        "word2idx and idx2word"
      ]
    },
    {
      "cell_type": "code",
      "execution_count": null,
      "metadata": {
        "colab": {
          "base_uri": "https://localhost:8080/"
        },
        "id": "1j4GjCrPlVoJ",
        "outputId": "e5fa8971-f472-4275-a0ae-4df65f99913d"
      },
      "outputs": [
        {
          "name": "stdout",
          "output_type": "stream",
          "text": [
            "word2idx [('AI', 0), ('Computers', 1), ('Data', 2), ('Deep', 3), ('Machine', 4)]\n",
            "idx2word [(0, 'AI'), (1, 'Computers'), (2, 'Data'), (3, 'Deep'), (4, 'Machine')]\n"
          ]
        }
      ],
      "source": [
        "vocab = sorted(set(remove_punct_word))\n",
        "word2idx = {word: idx for idx,word in enumerate(vocab)}\n",
        "idx2word = {idx: word for word, idx in word2idx.items()}\n",
        "print(\"word2idx\",list(word2idx.items())[:5])\n",
        "print(\"idx2word\",list(idx2word.items())[:5])"
      ]
    },
    {
      "cell_type": "markdown",
      "metadata": {
        "id": "bcGYSLFaTnQC"
      },
      "source": [
        "Implementing the skipgram model"
      ]
    },
    {
      "cell_type": "code",
      "execution_count": null,
      "metadata": {
        "colab": {
          "base_uri": "https://localhost:8080/"
        },
        "id": "QZ7_4sQWmSoY",
        "outputId": "25fff9be-8b3f-47bd-a9cd-726f15116d34"
      },
      "outputs": [
        {
          "name": "stdout",
          "output_type": "stream",
          "text": [
            "('Deep', 'learning')\n",
            "('Deep', 'is')\n",
            "('learning', 'Deep')\n",
            "('learning', 'is')\n",
            "('learning', 'amazing')\n",
            "('is', 'Deep')\n",
            "('is', 'learning')\n",
            "('is', 'amazing')\n",
            "('is', 'Machine')\n",
            "('amazing', 'learning')\n",
            "('amazing', 'is')\n"
          ]
        }
      ],
      "source": [
        "def skipgram_pairs(tokens, window_size=2):\n",
        "    pairs = []\n",
        "    for i, target_word in enumerate(tokens):\n",
        "        start = max(i - window_size, 0)\n",
        "        end = min(i + window_size + 1, len(tokens))\n",
        "\n",
        "        for j in range(start, end):\n",
        "            if j != i:\n",
        "                context_word = tokens[j]\n",
        "                pairs.append((target_word, context_word))\n",
        "\n",
        "    return pairs\n",
        "\n",
        "skipgram_pairs = skipgram_pairs(remove_punct_word, window_size=2)\n",
        "\n",
        "for i in range(11):\n",
        "    print(skipgram_pairs[i])"
      ]
    },
    {
      "cell_type": "markdown",
      "metadata": {
        "id": "GhYEUZZsKc_y"
      },
      "source": [
        "defining the SkipGramModel"
      ]
    },
    {
      "cell_type": "code",
      "execution_count": null,
      "metadata": {
        "id": "UoUAWWyooYK5"
      },
      "outputs": [],
      "source": [
        "import torch.nn as nn\n",
        "\n",
        "class SkipGramModel(nn.Module):\n",
        "    def __init__(self, vocab_size, embedding_dim):\n",
        "        super(SkipGramModel, self).__init__()\n",
        "        self.embedding = nn.Embedding(vocab_size, embedding_dim)\n",
        "        self.output = nn.Linear(embedding_dim, vocab_size)\n",
        "\n",
        "    def forward(self, input_word):\n",
        "        # input_word: [batch_size] of word indices\n",
        "        embeds = self.embedding(input_word)            # Shape: [batch_size, embedding_dim]\n",
        "        out = self.output(embeds)                      # Shape: [batch_size, vocab_size]\n",
        "        return out\n"
      ]
    },
    {
      "cell_type": "markdown",
      "metadata": {
        "id": "y9zICWbuKfbx"
      },
      "source": [
        "Loss function and Optimizer"
      ]
    },
    {
      "cell_type": "code",
      "execution_count": null,
      "metadata": {
        "id": "ICEOe9jdt0rL"
      },
      "outputs": [],
      "source": [
        "import torch\n",
        "import torch.nn.functional as F\n",
        "import torch.optim as optim\n",
        "\n",
        "training_data = [(word2idx[target], word2idx[context]) for target, context in skipgram_pairs]\n",
        "\n",
        "vocab_size = len(word2idx)\n",
        "embedding_dim = 10  # you can try 20 or 50 later\n",
        "\n",
        "model = SkipGramModel(vocab_size, embedding_dim)\n",
        "\n",
        "loss_function = nn.CrossEntropyLoss()\n",
        "optimizer = optim.Adam(model.parameters(), lr=0.01)\n"
      ]
    },
    {
      "cell_type": "markdown",
      "metadata": {
        "id": "MBUqurxLKm6J"
      },
      "source": [
        "Training the model"
      ]
    },
    {
      "cell_type": "code",
      "execution_count": null,
      "metadata": {
        "colab": {
          "base_uri": "https://localhost:8080/"
        },
        "id": "0HMnbZSat2Oa",
        "outputId": "30f26603-0252-4089-afbc-4bd5cf1b2095"
      },
      "outputs": [
        {
          "name": "stdout",
          "output_type": "stream",
          "text": [
            "Epoch 10/100, Loss: 151.3360\n",
            "Epoch 20/100, Loss: 140.0955\n",
            "Epoch 30/100, Loss: 137.1621\n",
            "Epoch 40/100, Loss: 136.0512\n",
            "Epoch 50/100, Loss: 135.4508\n",
            "Epoch 60/100, Loss: 135.0665\n",
            "Epoch 70/100, Loss: 134.7945\n",
            "Epoch 80/100, Loss: 134.5881\n",
            "Epoch 90/100, Loss: 134.4233\n",
            "Epoch 100/100, Loss: 134.2867\n"
          ]
        }
      ],
      "source": [
        "# Step 5: Training loop\n",
        "epochs = 100\n",
        "for epoch in range(epochs):\n",
        "    total_loss = 0\n",
        "    for target_idx, context_idx in training_data:\n",
        "        # Prepare input and target tensors\n",
        "        input_tensor = torch.tensor([target_idx], dtype=torch.long)\n",
        "        target_tensor = torch.tensor([context_idx], dtype=torch.long)\n",
        "\n",
        "        # Forward pass\n",
        "        output = model(input_tensor)\n",
        "\n",
        "        # Compute loss\n",
        "        loss = loss_function(output, target_tensor)\n",
        "\n",
        "        # Backpropagation\n",
        "        optimizer.zero_grad()\n",
        "        loss.backward()\n",
        "        optimizer.step()\n",
        "\n",
        "        total_loss += loss.item()\n",
        "\n",
        "    if (epoch + 1) % 10 == 0:\n",
        "        print(f\"Epoch {epoch+1}/{epochs}, Loss: {total_loss:.4f}\")"
      ]
    },
    {
      "cell_type": "markdown",
      "metadata": {
        "id": "CBNv4dilKz7Z"
      },
      "source": [
        "Saving the word embeddings"
      ]
    },
    {
      "cell_type": "code",
      "execution_count": null,
      "metadata": {
        "colab": {
          "base_uri": "https://localhost:8080/"
        },
        "id": "g9kHP1jdw0Q8",
        "outputId": "6bac1d6c-602a-486f-c62d-c9804f85489a"
      },
      "outputs": [
        {
          "data": {
            "text/plain": [
              "{'AI': array([-2.0582697 ,  0.04009096, -1.7592695 , -0.60449195, -0.21890235,\n",
              "        -0.69570863,  0.46549064,  0.38383332, -0.93763477,  0.9170905 ],\n",
              "       dtype=float32),\n",
              " 'Computers': array([-0.12851344, -1.5736694 ,  0.23391418, -0.6954665 , -1.6437857 ,\n",
              "        -0.324345  , -1.3024942 ,  2.068324  ,  2.7755003 ,  1.8790421 ],\n",
              "       dtype=float32),\n",
              " 'Data': array([-2.8294284 , -0.57790655,  0.82429487,  0.74259716, -1.3554401 ,\n",
              "        -1.2449127 ,  2.0928924 ,  0.67086095,  0.29245052, -1.7674217 ],\n",
              "       dtype=float32),\n",
              " 'Deep': array([-0.5829711 ,  3.4161377 , -0.6911324 ,  1.5483065 ,  0.21919227,\n",
              "        -1.0880533 ,  0.4570321 , -2.406954  ,  0.64441735, -0.62070346],\n",
              "       dtype=float32),\n",
              " 'Machine': array([-0.93654615,  0.64801234, -1.1756127 ,  2.6042242 , -1.4157163 ,\n",
              "        -0.12066769, -2.450898  , -1.6581362 , -0.8295506 , -0.14842953],\n",
              "       dtype=float32),\n",
              " 'amazing': array([-0.9853313 , -0.7541986 ,  0.03846208,  0.7417998 ,  0.02964155,\n",
              "        -1.8700826 , -0.61052257, -3.9436564 ,  0.01186376, -1.5385445 ],\n",
              "       dtype=float32),\n",
              " 'can': array([ 2.814202  , -0.44645944,  1.4767903 ,  0.67735755,  0.08974423,\n",
              "         1.4705403 ,  1.10391   ,  1.4023635 ,  0.8764906 ,  1.3179832 ],\n",
              "       dtype=float32),\n",
              " 'crucial': array([ 0.10145861,  0.63964057, -0.22905143, -1.0059309 , -0.5698785 ,\n",
              "        -0.69372886, -2.4325197 ,  1.5378424 , -2.3611982 , -1.9500645 ],\n",
              "       dtype=float32),\n",
              " 'data': array([ 0.26432908, -0.68684536,  1.8973849 , -0.24214153, -2.0789988 ,\n",
              "        -0.95797443,  0.9113713 , -0.46731967, -2.36692   , -0.96463966],\n",
              "       dtype=float32),\n",
              " 'for': array([-2.2816355 , -0.89889354,  0.57626194,  1.3165075 ,  1.14725   ,\n",
              "        -4.0631347 ,  0.16078313,  0.70765626,  0.20726705, -1.548354  ],\n",
              "       dtype=float32),\n",
              " 'from': array([ 6.9134140e-01, -4.7350627e-01,  7.3694110e-01, -2.7503691e+00,\n",
              "        -3.3224390e+00, -1.0517056e-03,  3.6626020e-01,  1.5495428e+00,\n",
              "        -2.0797828e-01, -1.7425544e+00], dtype=float32),\n",
              " 'future': array([-3.3770156 ,  0.20631014,  0.9832927 , -0.6786151 ,  0.8723006 ,\n",
              "         1.8068528 , -0.49530923,  0.13398515,  0.33278757,  1.7350699 ],\n",
              "       dtype=float32),\n",
              " 'is': array([ 0.71904236, -0.48412216, -1.5658283 ,  0.14462295,  0.89862025,\n",
              "         0.11100314, -0.00390517,  0.14029163,  0.33880907, -0.51416135],\n",
              "       dtype=float32),\n",
              " 'learn': array([-0.3997674 ,  0.5126884 ,  1.5141664 , -0.9638085 , -0.89598686,\n",
              "         2.3029716 ,  1.3664062 ,  0.65261793,  1.1780915 , -0.93389404],\n",
              "       dtype=float32),\n",
              " 'learning': array([-0.07085503,  0.239686  ,  0.24689916, -0.81582963,  1.5797341 ,\n",
              "        -0.66013044, -1.2922739 , -2.2089963 , -1.2363465 ,  2.0396435 ],\n",
              "       dtype=float32),\n",
              " 'powerful': array([-0.7449541 ,  1.9640754 ,  0.20709223,  1.02529   ,  0.02877836,\n",
              "        -2.088481  , -1.1548516 , -0.74825364,  1.0034758 , -2.3416224 ],\n",
              "       dtype=float32),\n",
              " 'the': array([ 0.11686093,  4.1398625 ,  0.82234997,  0.86030954,  0.92137694,\n",
              "        -0.14429492, -0.32280537,  1.7013216 ,  0.76085246,  0.25319144],\n",
              "       dtype=float32)}"
            ]
          },
          "execution_count": 45,
          "metadata": {},
          "output_type": "execute_result"
        }
      ],
      "source": [
        "# Extract trained word embeddings from the model\n",
        "word_embeddings = model.embedding.weight.data\n",
        "\n",
        "# Save the embeddings in a dictionary\n",
        "embeddings_dict = {idx2word[i]: word_embeddings[i].detach().numpy() for i in range(vocab_size)}\n",
        "embeddings_dict"
      ]
    },
    {
      "cell_type": "markdown",
      "metadata": {
        "id": "IoOKT6MIK5L5"
      },
      "source": [
        "Visualizing the word embeddings"
      ]
    },
    {
      "cell_type": "code",
      "execution_count": null,
      "metadata": {
        "colab": {
          "base_uri": "https://localhost:8080/",
          "height": 545
        },
        "id": "FGDJCu_cxKgM",
        "outputId": "f86285ab-f6c1-412a-82aa-cb0166acfd1f"
      },
      "outputs": [
        {
          "data": {
            "image/png": "[encoded data removed]",
            "text/plain": [
              "<Figure size 1000x600 with 1 Axes>"
            ]
          },
          "metadata": {},
          "output_type": "display_data"
        }
      ],
      "source": [
        "from sklearn.manifold import TSNE\n",
        "import matplotlib.pyplot as plt\n",
        "import numpy as np\n",
        "\n",
        "words = list(embeddings_dict.keys())\n",
        "vectors = np.array(list(embeddings_dict.values()))\n",
        "\n",
        "tsne = TSNE(n_components=2, random_state=42, perplexity=3)\n",
        "vectors_2d = tsne.fit_transform(vectors)\n",
        "\n",
        "plt.figure(figsize=(10, 6))\n",
        "for i, word in enumerate(words):\n",
        "    x, y = vectors_2d[i]\n",
        "    plt.scatter(x, y)\n",
        "    plt.text(x+0.01, y+0.01, word, fontsize=9)\n",
        "plt.title(\"2D t-SNE Word Embedding Visualization\")\n",
        "plt.grid(True)\n",
        "plt.show()"
      ]
    },
    {
      "cell_type": "markdown",
      "metadata": {
        "id": "tg5m-IODK_wJ"
      },
      "source": [
        "Modification with CBOW"
      ]
    },
    {
      "cell_type": "code",
      "execution_count": null,
      "metadata": {
        "id": "qgCE5MiAySl8"
      },
      "outputs": [],
      "source": [
        "def generate_cbow_pairs(tokens, window_size=2):\n",
        "    pairs = []\n",
        "    for i in range(window_size, len(tokens) - window_size):\n",
        "        context = tokens[i - window_size:i] + tokens[i + 1:i + window_size + 1]\n",
        "        target = tokens[i]\n",
        "        pairs.append((context, target))\n",
        "    return pairs\n",
        "\n",
        "# Generate CBOW training data\n",
        "cbow_pairs = generate_cbow_pairs(remove_punct_word)\n"
      ]
    },
    {
      "cell_type": "markdown",
      "metadata": {
        "id": "EkDdbwDgLGaR"
      },
      "source": [
        "Defining the CBOWModel"
      ]
    },
    {
      "cell_type": "code",
      "execution_count": null,
      "metadata": {
        "id": "5pa1Nnhf8-Vh"
      },
      "outputs": [],
      "source": [
        "class CBOWModel(nn.Module):\n",
        "    def __init__(self, vocab_size, embedding_dim):\n",
        "        super(CBOWModel, self).__init__()\n",
        "        self.embedding = nn.Embedding(vocab_size, embedding_dim)\n",
        "        self.linear = nn.Linear(embedding_dim, vocab_size)\n",
        "\n",
        "    def forward(self, context_idxs):\n",
        "        embeds = self.embedding(context_idxs)  # shape: [context_len, embed_dim]\n",
        "        combined = embeds.mean(dim=0).view(1, -1)  # average context vectors\n",
        "        out = self.linear(combined)                # shape: [1, vocab_size]\n",
        "        return out\n",
        "\n",
        "cbow_model = CBOWModel(vocab_size, embedding_dim)\n",
        "loss_fn = nn.CrossEntropyLoss()\n",
        "optimizer = optim.Adam(cbow_model.parameters(), lr=0.01)"
      ]
    },
    {
      "cell_type": "markdown",
      "metadata": {
        "id": "yftFbrovLJeo"
      },
      "source": [
        "Training the CBOW model"
      ]
    },
    {
      "cell_type": "code",
      "execution_count": null,
      "metadata": {
        "colab": {
          "base_uri": "https://localhost:8080/"
        },
        "id": "eZSiwhqV9EYg",
        "outputId": "e0dc7988-7b90-4611-d228-dbcb7d71344c"
      },
      "outputs": [
        {
          "name": "stdout",
          "output_type": "stream",
          "text": [
            "Epoch 10, Loss: 22.9264\n",
            "Epoch 20, Loss: 7.2719\n",
            "Epoch 30, Loss: 2.6673\n",
            "Epoch 40, Loss: 1.2520\n",
            "Epoch 50, Loss: 0.7065\n",
            "Epoch 60, Loss: 0.4504\n",
            "Epoch 70, Loss: 0.3108\n",
            "Epoch 80, Loss: 0.2265\n",
            "Epoch 90, Loss: 0.1716\n",
            "Epoch 100, Loss: 0.1338\n"
          ]
        }
      ],
      "source": [
        "for epoch in range(100):\n",
        "    total_loss = 0\n",
        "    for context_words, target_word in cbow_pairs:\n",
        "        context_idxs = torch.tensor([word2idx[word] for word in context_words], dtype=torch.long)\n",
        "        target_idx = torch.tensor([word2idx[target_word]], dtype=torch.long)\n",
        "\n",
        "        output = cbow_model(context_idxs)\n",
        "        loss = loss_fn(output, target_idx)\n",
        "\n",
        "        optimizer.zero_grad()\n",
        "        loss.backward()\n",
        "        optimizer.step()\n",
        "\n",
        "        total_loss += loss.item()\n",
        "\n",
        "    if (epoch + 1) % 10 == 0:\n",
        "        print(f\"Epoch {epoch+1}, Loss: {total_loss:.4f}\")"
      ]
    },
    {
      "cell_type": "markdown",
      "metadata": {
        "id": "_JveHswTLPOx"
      },
      "source": [
        "Model evaluation on small analogy"
      ]
    },
    {
      "cell_type": "code",
      "execution_count": null,
      "metadata": {
        "id": "pJtZo-z-9JaQ"
      },
      "outputs": [],
      "source": [
        "def find_analogy(word_a, word_b, word_c, embeddings_dict):\n",
        "    try:\n",
        "        vec = embeddings_dict[word_b] - embeddings_dict[word_a] + embeddings_dict[word_c]\n",
        "        # Find closest word\n",
        "        closest_word = None\n",
        "        min_dist = float('inf')\n",
        "        for word, emb in embeddings_dict.items():\n",
        "            dist = np.linalg.norm(vec - emb)\n",
        "            if dist < min_dist and word not in [word_a, word_b, word_c]:\n",
        "                min_dist = dist\n",
        "                closest_word = word\n",
        "        return closest_word\n",
        "    except KeyError:\n",
        "        return \"Word not found in vocab\""
      ]
    },
    {
      "cell_type": "code",
      "execution_count": null,
      "metadata": {
        "colab": {
          "base_uri": "https://localhost:8080/",
          "height": 35
        },
        "id": "WDEjfYSo9Liw",
        "outputId": "130bcf48-1d43-45f7-d402-17e0b08b95f5"
      },
      "outputs": [
        {
          "data": {
            "application/vnd.google.colaboratory.intrinsic+json": {
              "type": "string"
            },
            "text/plain": [
              "'future'"
            ]
          },
          "execution_count": 55,
          "metadata": {},
          "output_type": "execute_result"
        }
      ],
      "source": [
        "find_analogy(\"Machine\", \"learning\", \"AI\", embeddings_dict)"
      ]
    },
    {
      "cell_type": "code",
      "execution_count": null,
      "metadata": {
        "id": "Oe9cqtWt9NZQ"
      },
      "outputs": [],
      "source": []
    }
  ],
  "metadata": {
    "colab": {
      "provenance": []
    },
    "kernelspec": {
      "display_name": "Python 3",
      "name": "python3"
    },
    "language_info": {
      "name": "python"
    }
  },
  "nbformat": 4,
  "nbformat_minor": 0
}
